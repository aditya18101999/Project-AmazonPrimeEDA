{
  "nbformat": 4,
  "nbformat_minor": 0,
  "metadata": {
    "colab": {
      "private_outputs": true,
      "provenance": [],
      "collapsed_sections": [
        "w6K7xa23Elo4",
        "mDgbUHAGgjLW",
        "PBTbrJXOngz2",
        "u3PMJOP6ngxN",
        "bKJF3rekwFvQ",
        "MSa1f5Uengrz",
        "0wOQAZs5pc--",
        "K5QZ13OEpz2H",
        "lQ7QKXXCp7Bj",
        "448CDAPjqfQr",
        "KSlN3yHqYklG",
        "t6dVpIINYklI",
        "ijmpgYnKYklI",
        "-JiQyfWJYklI",
        "EM7whBJCYoAo",
        "fge-S5ZAYoAp",
        "85gYPyotYoAp",
        "RoGjAbkUYoAp",
        "4Of9eVA-YrdM",
        "iky9q4vBYrdO",
        "F6T5p64dYrdO",
        "y-Ehk30pYrdP",
        "bamQiAODYuh1",
        "QHF8YVU7Yuh3",
        "GwzvFGzlYuh3",
        "qYpmQ266Yuh3",
        "OH-pJp9IphqM",
        "bbFf2-_FphqN",
        "_ouA3fa0phqN",
        "Seke61FWphqN",
        "PIIx-8_IphqN",
        "t27r6nlMphqO",
        "r2jJGEOYphqO",
        "b0JNsNcRphqO",
        "BZR9WyysphqO",
        "jj7wYXLtphqO",
        "eZrbJ2SmphqO",
        "rFu4xreNphqO",
        "YJ55k-q6phqO",
        "gCFgpxoyphqP",
        "OVtJsKN_phqQ",
        "lssrdh5qphqQ",
        "U2RJ9gkRphqQ",
        "1M8mcRywphqQ",
        "tgIPom80phqQ",
        "JMzcOPDDphqR",
        "NC_X3p0fY2L0",
        "UV0SzAkaZNRQ",
        "YPEH6qLeZNRQ",
        "q29F0dvdveiT",
        "EXh0U9oCveiU",
        "22aHeOlLveiV",
        "JcMwzZxoAimU",
        "8G2x9gOozGDZ",
        "gCX9965dhzqZ"
      ]
    },
    "kernelspec": {
      "name": "python3",
      "display_name": "Python 3"
    },
    "language_info": {
      "name": "python"
    }
  },
  "cells": [
    {
      "cell_type": "markdown",
      "source": [
        "# **Project Name**    - Amazon Prime TV Shows and Movies  \n",
        "\n"
      ],
      "metadata": {
        "id": "vncDsAP0Gaoa"
      }
    },
    {
      "cell_type": "markdown",
      "source": [
        "\n",
        "##### **Project Type**    - EDA\n",
        "##### **Contribution**    - Individual\n",
        "##### **Team Member 1 -**  Aditya Anilkumar\n"
      ],
      "metadata": {
        "id": "beRrZCGUAJYm"
      }
    },
    {
      "cell_type": "markdown",
      "source": [
        "# **Project Summary -**"
      ],
      "metadata": {
        "id": "FJNUwmbgGyua"
      }
    },
    {
      "cell_type": "markdown",
      "source": [
        "This project performs an exploratory data analysis on Amazon Prime's TV shows and movies dataset. It aims to uncover key trends, patterns, and insights about content type, genre distribution, production countries, language diversity, and release timelines. The ultimate goal is to generate useful insights that can support decisions on content acquisition, regional targeting, and audience engagement strategies."
      ],
      "metadata": {
        "id": "F6v_1wHtG2nS"
      }
    },
    {
      "cell_type": "markdown",
      "source": [
        "# **GitHub Link -**"
      ],
      "metadata": {
        "id": "w6K7xa23Elo4"
      }
    },
    {
      "cell_type": "markdown",
      "source": [
        "Provide your GitHub Link here.\n",
        "\n",
        "> https://github.com/aditya18101999\n",
        "\n"
      ],
      "metadata": {
        "id": "h1o69JH3Eqqn"
      }
    },
    {
      "cell_type": "markdown",
      "source": [
        "# **Problem Statement**\n"
      ],
      "metadata": {
        "id": "yQaldy8SH6Dl"
      }
    },
    {
      "cell_type": "markdown",
      "source": [
        "The objective is to understand the types and characteristics of the content available on Amazon Prime Video. We want to analyze what types of content are offered, which genres are most common, how release years are spread out, and which countries or languages contribute most to the content library.\n"
      ],
      "metadata": {
        "id": "DpeJGUA3kjGy"
      }
    },
    {
      "cell_type": "markdown",
      "source": [
        "#### **Define Your Business Objective?**"
      ],
      "metadata": {
        "id": "PH-0ReGfmX4f"
      }
    },
    {
      "cell_type": "markdown",
      "source": [
        "\n",
        "\n",
        "To provide Amazon Prime with useful insights regarding their content library. These insights can influence decisions on what type of content to promote, acquire, or produce, based on viewer preferences, historical trends, and genre popularity."
      ],
      "metadata": {
        "id": "PhDvGCAqmjP1"
      }
    },
    {
      "cell_type": "markdown",
      "source": [
        "# **General Guidelines** : -  "
      ],
      "metadata": {
        "id": "mDgbUHAGgjLW"
      }
    },
    {
      "cell_type": "markdown",
      "source": [
        "1.   Well-structured, formatted, and commented code is required.\n",
        "2.   Exception Handling, Production Grade Code & Deployment Ready Code will be a plus. Those students will be awarded some additional credits.\n",
        "     \n",
        "     The additional credits will have advantages over other students during Star Student selection.\n",
        "       \n",
        "             [ Note: - Deployment Ready Code is defined as, the whole .ipynb notebook should be executable in one go\n",
        "                       without a single error logged. ]\n",
        "\n",
        "3.   Each and every logic should have proper comments.\n",
        "4. You may add as many number of charts you want. Make Sure for each and every chart the following format should be answered.\n",
        "        \n",
        "\n",
        "```\n",
        "# Chart visualization code\n",
        "```\n",
        "            \n",
        "\n",
        "*   Why did you pick the specific chart?\n",
        "*   What is/are the insight(s) found from the chart?\n",
        "* Will the gained insights help creating a positive business impact?\n",
        "Are there any insights that lead to negative growth? Justify with specific reason.\n",
        "\n",
        "5. You have to create at least 20 logical & meaningful charts having important insights.\n",
        "\n",
        "\n",
        "[ Hints : - Do the Vizualization in  a structured way while following \"UBM\" Rule.\n",
        "\n",
        "U - Univariate Analysis,\n",
        "\n",
        "B - Bivariate Analysis (Numerical - Categorical, Numerical - Numerical, Categorical - Categorical)\n",
        "\n",
        "M - Multivariate Analysis\n",
        " ]\n",
        "\n",
        "\n",
        "\n"
      ],
      "metadata": {
        "id": "ZrxVaUj-hHfC"
      }
    },
    {
      "cell_type": "markdown",
      "source": [
        "# ***Let's Begin !***"
      ],
      "metadata": {
        "id": "O_i_v8NEhb9l"
      }
    },
    {
      "cell_type": "markdown",
      "source": [
        "## ***1. Know Your Data***"
      ],
      "metadata": {
        "id": "HhfV-JJviCcP"
      }
    },
    {
      "cell_type": "markdown",
      "source": [
        "### Import Libraries"
      ],
      "metadata": {
        "id": "Y3lxredqlCYt"
      }
    },
    {
      "cell_type": "code",
      "source": [
        "# Import Libraries\n",
        "import pandas as pd\n",
        "import numpy as np\n",
        "import matplotlib.pyplot as plt\n",
        "import seaborn as sns\n",
        "import warnings\n",
        "warnings.filterwarnings('ignore')"
      ],
      "metadata": {
        "id": "M8Vqi-pPk-HR"
      },
      "execution_count": null,
      "outputs": []
    },
    {
      "cell_type": "markdown",
      "source": [
        "### Dataset Loading"
      ],
      "metadata": {
        "id": "3RnN4peoiCZX"
      }
    },
    {
      "cell_type": "code",
      "source": [
        "# Load Dataset\n",
        "credits_df = pd.read_csv(\"/content/credits.csv\")\n",
        "titles_df = pd.read_csv(\"/content/titles.csv\")"
      ],
      "metadata": {
        "id": "4CkvbW_SlZ_R"
      },
      "execution_count": null,
      "outputs": []
    },
    {
      "cell_type": "markdown",
      "source": [
        "### Dataset First View"
      ],
      "metadata": {
        "id": "x71ZqKXriCWQ"
      }
    },
    {
      "cell_type": "code",
      "source": [
        "# Dataset First Look\n",
        "print(\"Titles Dataset:\")\n",
        "display(titles_df.head())\n",
        "\n",
        "print(\"Credits Dataset:\")\n",
        "display(credits_df.head())"
      ],
      "metadata": {
        "id": "LWNFOSvLl09H"
      },
      "execution_count": null,
      "outputs": []
    },
    {
      "cell_type": "markdown",
      "source": [
        "### Dataset Rows & Columns count"
      ],
      "metadata": {
        "id": "7hBIi_osiCS2"
      }
    },
    {
      "cell_type": "code",
      "source": [
        "# Dataset Rows & Columns count\n",
        "print(\"Titles shape:\", titles_df.shape)\n",
        "print(\"Credits shape:\", credits_df.shape)"
      ],
      "metadata": {
        "id": "Kllu7SJgmLij"
      },
      "execution_count": null,
      "outputs": []
    },
    {
      "cell_type": "markdown",
      "source": [
        "### Dataset Information"
      ],
      "metadata": {
        "id": "JlHwYmJAmNHm"
      }
    },
    {
      "cell_type": "code",
      "source": [
        "# Dataset Info\n",
        "# Titles dataset structure\n",
        "print(\"Titles DataFrame Info:\")\n",
        "titles_df.info()\n",
        "\n",
        "# Credits dataset structure\n",
        "print(\"\\nCredits DataFrame Info:\")\n",
        "credits_df.info()"
      ],
      "metadata": {
        "id": "e9hRXRi6meOf"
      },
      "execution_count": null,
      "outputs": []
    },
    {
      "cell_type": "markdown",
      "source": [
        "#### Duplicate Values"
      ],
      "metadata": {
        "id": "35m5QtbWiB9F"
      }
    },
    {
      "cell_type": "code",
      "source": [
        "# Dataset Duplicate Value Count\n",
        "print(\"Titles duplicates:\", titles_df.duplicated().sum())\n",
        "print(\"Credits duplicates:\", credits_df.duplicated().sum())"
      ],
      "metadata": {
        "id": "1sLdpKYkmox0"
      },
      "execution_count": null,
      "outputs": []
    },
    {
      "cell_type": "markdown",
      "source": [
        "#### Missing Values/Null Values"
      ],
      "metadata": {
        "id": "PoPl-ycgm1ru"
      }
    },
    {
      "cell_type": "code",
      "source": [
        "# Missing Values/Null Values Count\n",
        "print(\"Titles missing values:\\n\", titles_df.isnull().sum())\n",
        "print(\"\\nCredits missing values:\\n\", credits_df.isnull().sum())"
      ],
      "metadata": {
        "id": "GgHWkxvamxVg"
      },
      "execution_count": null,
      "outputs": []
    },
    {
      "cell_type": "code",
      "source": [
        "# Visualizing the missing values\n",
        "missing_percent = titles_df.isnull().mean() * 100\n",
        "missing_percent = missing_percent[missing_percent > 0].sort_values(ascending=False)\n",
        "\n",
        "plt.figure(figsize=(10, 6))\n",
        "sns.barplot(x=missing_percent.values, y=missing_percent.index, palette=\"magma\")\n",
        "plt.title(\"Missing Data Percentage by Column\")\n",
        "plt.xlabel(\"Percentage (%)\")\n",
        "plt.ylabel(\"Column Name\")\n",
        "plt.show()"
      ],
      "metadata": {
        "id": "3q5wnI3om9sJ"
      },
      "execution_count": null,
      "outputs": []
    },
    {
      "cell_type": "markdown",
      "source": [
        "### What did you know about your dataset?"
      ],
      "metadata": {
        "id": "H0kj-8xxnORC"
      }
    },
    {
      "cell_type": "markdown",
      "source": [
        "After exploring the `titles` and `credits` datasets, here are the key observations:\n",
        "\n",
        "#### Titles Dataset:\n",
        "- Contains **9,871 records** with metadata about Amazon Prime shows and movies.\n",
        "- Each title has attributes such as `type`, `release_year`, `genres`, `runtime`, `age_certification`, and various popularity scores (`imdb`, `tmdb`).\n",
        "- **Missing data is present** in several fields:\n",
        "  - `age_certification` is missing in about 66% of rows.\n",
        "  - `seasons` is missing in most rows, which makes sense since it only applies to TV shows.\n",
        "  - Ratings and popularity metrics (`imdb_score`, `tmdb_score`) also have moderate missing data.\n",
        "- There are **3 duplicate entries** that need to be cleaned.\n",
        "- Column types are mostly appropriate, such as numerical for scores and runtime, and object for text fields.\n",
        "\n",
        "#### Credits Dataset:\n",
        "- Contains **124,235 records** detailing cast and crew information for various titles.\n",
        "- Each row links a `person_id` and `name` to a title `id`, along with their `role` (e.g., ACTOR, DIRECTOR).\n",
        "- The `character` column is missing in about 13% of entries, likely because it doesn't apply to non-actors.\n",
        "- **56 duplicate rows** exist and should be removed.\n",
        "- Overall, the dataset is large and well-structured for analyzing contributors, like the most frequent directors or actors.\n",
        "\n",
        "These insights helped identify which columns are clean and useful for exploratory data analysis, and which require cleaning or combining."
      ],
      "metadata": {
        "id": "gfoNAAC-nUe_"
      }
    },
    {
      "cell_type": "markdown",
      "source": [
        "## ***2. Understanding Your Variables***"
      ],
      "metadata": {
        "id": "nA9Y7ga8ng1Z"
      }
    },
    {
      "cell_type": "code",
      "source": [
        "# Dataset Columns\n",
        "print(\"Titles columns:\", titles_df.columns)\n",
        "print(\"Credits columns:\", credits_df.columns)"
      ],
      "metadata": {
        "id": "j7xfkqrt5Ag5"
      },
      "execution_count": null,
      "outputs": []
    },
    {
      "cell_type": "code",
      "source": [
        "# Dataset Describe\n",
        "print(\"Titles describe:\")\n",
        "display(titles_df.describe())\n",
        "\n",
        "print(\"\\nCredits describe:\")\n",
        "display(credits_df.describe())"
      ],
      "metadata": {
        "id": "DnOaZdaE5Q5t"
      },
      "execution_count": null,
      "outputs": []
    },
    {
      "cell_type": "markdown",
      "source": [
        "### Variables Description"
      ],
      "metadata": {
        "id": "PBTbrJXOngz2"
      }
    },
    {
      "cell_type": "markdown",
      "source": [
        "**Summary of Variable Descriptions**  \n",
        "\n",
        "**Titles Dataset (titles_df)**  \n",
        "The titles_df dataset mainly contains metadata about individual movies and TV shows.\n",
        "\n",
        "*Identifiers (id, imdb_id)*: Unique codes to identify each title. These serve as primary keys or links to external databases like IMDb.\n",
        "\n",
        "*Basic Information (title, type, description, release_year)*: Important descriptive attributes such as the title, whether it's a movie or show, a summary, and its original release year.\n",
        "\n",
        "*Content Characteristics (age_certification, runtime, genres, production_countries, seasons)*: Information about the content's classification (age rating), length, themes, countries of origin, and the number of seasons for TV series.\n",
        "\n",
        "*Popularity & Ratings (imdb_score, imdb_votes, tmdb_popularity, tmdb_score)*: Metrics that show audience reception and popularity from IMDb and TMDb, including average scores and vote counts.\n",
        "\n",
        "**Credits Dataset (credits_df**  \n",
        "The credits_df dataset details the individuals involved in each title's production.\n",
        "\n",
        "*Person & Title Identifiers (person_id, id)*: Unique codes for each individual, along with a foreign key that links back to the specific title they worked on.\n",
        "\n",
        "*Personal & Role Details (name, character, role)*: The person's name, the specific character they portrayed (if an actor), and their overall role in the production (for example, 'ACTOR' or 'DIRECTOR').Answer Here"
      ],
      "metadata": {
        "id": "aJV4KIxSnxay"
      }
    },
    {
      "cell_type": "markdown",
      "source": [
        "### Check Unique Values for each variable."
      ],
      "metadata": {
        "id": "u3PMJOP6ngxN"
      }
    },
    {
      "cell_type": "code",
      "source": [
        "# Check Unique Values for each variable.\n",
        "print(\"Titles unique values:\")\n",
        "display(titles_df.nunique())\n",
        "\n",
        "print(\"\\nCredits unique values:\")\n",
        "display(credits_df.nunique())"
      ],
      "metadata": {
        "id": "zms12Yq5n-jE"
      },
      "execution_count": null,
      "outputs": []
    },
    {
      "cell_type": "markdown",
      "source": [
        "## 3. ***Data Wrangling***"
      ],
      "metadata": {
        "id": "dauF4eBmngu3"
      }
    },
    {
      "cell_type": "markdown",
      "source": [
        "### Data Wrangling Code"
      ],
      "metadata": {
        "id": "bKJF3rekwFvQ"
      }
    },
    {
      "cell_type": "code",
      "source": [
        "# Write your code to make your dataset analysis ready.\n",
        "# Remove duplicates\n",
        "titles_df.drop_duplicates(inplace=True)\n",
        "credits_df.drop_duplicates(inplace=True)\n",
        "\n",
        "# Filter credits - ACTOR/DIRECTOR role for now\n",
        "actors_df = credits_df[credits_df['role'] == 'ACTOR']\n",
        "directors_df = credits_df[credits_df['role'] == 'DIRECTOR']\n",
        "\n",
        "# Aggregate actors per title (as comma-separated string)\n",
        "actors_grouped = actors_df.groupby('id')['name'].apply(lambda x: ', '.join(x)).reset_index()\n",
        "actors_grouped.rename(columns={'name': 'actors'}, inplace=True)\n",
        "\n",
        "# Merge titles with directors and actors\n",
        "df = titles_df.merge(directors_df[['id', 'name']], on='id', how='left')\n",
        "df.rename(columns={'name': 'director'}, inplace=True)\n",
        "\n",
        "df = df.merge(actors_grouped, on='id', how='left')\n",
        "\n",
        "# Clean/format important columns/handling null values\n",
        "df['release_year'] = pd.to_numeric(df['release_year'], errors='coerce')\n",
        "df['age_certification'] = df['age_certification'].fillna('Unknown')\n",
        "df['genres'] = df['genres'].fillna('Unknown')\n",
        "df['production_countries'] = df['production_countries'].fillna('Unknown')\n",
        "df['seasons'] = df['seasons'].fillna(0).astype(int)  # treat missing as 0 for movies\n",
        "df['imdb_score'] = df['imdb_score'].fillna(df['imdb_score'].median())\n",
        "df['tmdb_score'] = df['tmdb_score'].fillna(df['tmdb_score'].median())\n",
        "\n",
        "# reset index\n",
        "df.reset_index(drop=True, inplace=True)\n",
        "\n",
        "# Final check\n",
        "df.info()\n"
      ],
      "metadata": {
        "id": "wk-9a2fpoLcV"
      },
      "execution_count": null,
      "outputs": []
    },
    {
      "cell_type": "markdown",
      "source": [
        "### What all manipulations have you done and insights you found?"
      ],
      "metadata": {
        "id": "MSa1f5Uengrz"
      }
    },
    {
      "cell_type": "markdown",
      "source": [
        "We cleaned and enriched the dataset with both director and actor information:\n",
        "\n",
        "- Removed duplicate rows from both datasets.\n",
        "- Handled missing values for age certification, genres, scores, and seasons.\n",
        "- Filtered `credits` to extract both `DIRECTOR` and `ACTOR` roles.\n",
        "- Merged directors into the `titles` dataset using `id`.\n",
        "- Aggregated actor names per title and merged as a separate column.\n",
        "- Final dataset now includes `title`, `type`, `genres`, `director`, and a list of `actors`, making it ready for deep analysis of cast/crew and their influence on content performance.\n"
      ],
      "metadata": {
        "id": "LbyXE7I1olp8"
      }
    },
    {
      "cell_type": "markdown",
      "source": [
        "## ***4. Data Vizualization, Storytelling & Experimenting with charts : Understand the relationships between variables***"
      ],
      "metadata": {
        "id": "GF8Ens_Soomf"
      }
    },
    {
      "cell_type": "markdown",
      "source": [
        "\n",
        "#### Chart - 1  Distribution of Movies vs TV Shows"
      ],
      "metadata": {
        "id": "0wOQAZs5pc--"
      }
    },
    {
      "cell_type": "code",
      "source": [
        "# Chart - 1 visualization code\n",
        "sns.countplot(data=df, x='type', palette='Set2')\n",
        "plt.title(\"Distribution of Content Types on Amazon Prime\")\n",
        "plt.xlabel(\"Type of Content\")\n",
        "plt.ylabel(\"Number of Titles\")\n",
        "plt.show()\n"
      ],
      "metadata": {
        "id": "7v_ESjsspbW7"
      },
      "execution_count": null,
      "outputs": []
    },
    {
      "cell_type": "markdown",
      "source": [
        "##### 1. Why did you pick the specific chart?"
      ],
      "metadata": {
        "id": "K5QZ13OEpz2H"
      }
    },
    {
      "cell_type": "markdown",
      "source": [
        "Understanding the overall mix between movies and TV shows is a foundational part of content strategy analysis. This helps us understand the platform's focus: one-off viewing experiences (movies) vs long-form engagement (TV shows)."
      ],
      "metadata": {
        "id": "XESiWehPqBRc"
      }
    },
    {
      "cell_type": "markdown",
      "source": [
        "##### 2. What is/are the insight(s) found from the chart?"
      ],
      "metadata": {
        "id": "lQ7QKXXCp7Bj"
      }
    },
    {
      "cell_type": "markdown",
      "source": [
        "The platform has significantly more movies than shows. This suggests Amazon Prime leans heavily toward shorter, one-time view content. TV shows, which drive longer user engagement, are fewer in comparison."
      ],
      "metadata": {
        "id": "C_j1G7yiqdRP"
      }
    },
    {
      "cell_type": "markdown",
      "source": [
        "##### 3. Will the gained insights help creating a positive business impact?\n",
        "Are there any insights that lead to negative growth? Justify with specific reason."
      ],
      "metadata": {
        "id": "448CDAPjqfQr"
      }
    },
    {
      "cell_type": "markdown",
      "source": [
        "This insight helps stakeholders evaluate whether the content portfolio supports long-term user retention. TV shows tend to keep users subscribed longer due to episodic formats. A heavier movie library may lead to shorter viewing bursts but could also reduce content fatigue if more diverse. Depending on engagement data, Amazon may need to rebalance this mix."
      ],
      "metadata": {
        "id": "3cspy4FjqxJW"
      }
    },
    {
      "cell_type": "markdown",
      "source": [
        "#### Chart - 2  Top Genres"
      ],
      "metadata": {
        "id": "KSlN3yHqYklG"
      }
    },
    {
      "cell_type": "code",
      "source": [
        "# Chart - 2 visualization code\n",
        "# Fix genres by removing unwanted characters and exploding\n",
        "df_genre_clean = df.copy()\n",
        "\n",
        "# Remove stray brackets and quotes (clean up stringified lists)\n",
        "df_genre_clean['genres'] = df_genre_clean['genres'].str.replace(r\"[\\[\\]']\", \"\", regex=True)\n",
        "\n",
        "# Split by comma\n",
        "df_genre_clean['genres'] = df_genre_clean['genres'].str.split(', ')\n",
        "\n",
        "# Explode\n",
        "df_genre_clean = df_genre_clean.explode('genres')\n",
        "\n",
        "# Count top genres\n",
        "top_genres = df_genre_clean['genres'].value_counts().head(10)\n",
        "\n",
        "# Plot\n",
        "plt.figure(figsize=(10,6))\n",
        "sns.barplot(x=top_genres.values, y=top_genres.index, palette='Set3')\n",
        "plt.title(\"Top 10 Genres on Amazon Prime\")\n",
        "plt.xlabel(\"Number of Titles\")\n",
        "plt.ylabel(\"Genre\")\n",
        "plt.show()\n"
      ],
      "metadata": {
        "id": "R4YgtaqtYklH"
      },
      "execution_count": null,
      "outputs": []
    },
    {
      "cell_type": "markdown",
      "source": [
        "##### 1. Why did you pick the specific chart?"
      ],
      "metadata": {
        "id": "t6dVpIINYklI"
      }
    },
    {
      "cell_type": "markdown",
      "source": [
        "Genres are key drivers of user preferences and engagement. By understanding which genres dominate, we can align content supply with demand — or identify underserved genres with high potential."
      ],
      "metadata": {
        "id": "5aaW0BYyYklI"
      }
    },
    {
      "cell_type": "markdown",
      "source": [
        "##### 2. What is/are the insight(s) found from the chart?"
      ],
      "metadata": {
        "id": "ijmpgYnKYklI"
      }
    },
    {
      "cell_type": "markdown",
      "source": [
        "The most common genres are Drama, Comedy, and Action — traditional high-demand categories. Niche genres like Documentary or Sci-Fi are present but appear less frequently."
      ],
      "metadata": {
        "id": "PSx9atu2YklI"
      }
    },
    {
      "cell_type": "markdown",
      "source": [
        "##### 3. Will the gained insights help creating a positive business impact?\n",
        "Are there any insights that lead to negative growth? Justify with specific reason."
      ],
      "metadata": {
        "id": "-JiQyfWJYklI"
      }
    },
    {
      "cell_type": "markdown",
      "source": [
        "This indicates Amazon is focused on broad-appeal genres. However, underrepresented genres could be strategic opportunities — for example, increasing investment in documentaries if they have high retention. Also, knowing dominant genres helps tailor personalized recommendations or content clustering."
      ],
      "metadata": {
        "id": "BcBbebzrYklV"
      }
    },
    {
      "cell_type": "markdown",
      "source": [
        "#### Chart - 3: Titles per Year"
      ],
      "metadata": {
        "id": "EM7whBJCYoAo"
      }
    },
    {
      "cell_type": "code",
      "source": [
        "# Chart - 3 visualization code\n",
        "plt.figure(figsize=(12,6))\n",
        "sns.histplot(data=df, x='release_year', bins=30, kde=False, color='skyblue')\n",
        "plt.title(\"Distribution of Titles by Release Year\")\n",
        "plt.xlabel(\"Release Year\")\n",
        "plt.ylabel(\"Number of Titles\")\n",
        "plt.show()\n"
      ],
      "metadata": {
        "id": "t6GMdE67YoAp"
      },
      "execution_count": null,
      "outputs": []
    },
    {
      "cell_type": "markdown",
      "source": [
        "##### 1. Why did you pick the specific chart?"
      ],
      "metadata": {
        "id": "fge-S5ZAYoAp"
      }
    },
    {
      "cell_type": "markdown",
      "source": [
        "To assess whether Amazon's catalog favors recent vs classic content. This helps evaluate how up-to-date and culturally relevant the catalog is."
      ],
      "metadata": {
        "id": "5dBItgRVYoAp"
      }
    },
    {
      "cell_type": "markdown",
      "source": [
        "##### 2. What is/are the insight(s) found from the chart?"
      ],
      "metadata": {
        "id": "85gYPyotYoAp"
      }
    },
    {
      "cell_type": "markdown",
      "source": [
        "Most content is released post-2000, with a noticeable spike after 2015. This suggests that Amazon has been rapidly expanding its catalog in the last decade, likely due to streaming growth."
      ],
      "metadata": {
        "id": "4jstXR6OYoAp"
      }
    },
    {
      "cell_type": "markdown",
      "source": [
        "##### 3. Will the gained insights help creating a positive business impact?\n",
        "Are there any insights that lead to negative growth? Justify with specific reason."
      ],
      "metadata": {
        "id": "RoGjAbkUYoAp"
      }
    },
    {
      "cell_type": "markdown",
      "source": [
        "The focus on recent content aligns with user expectations — fresh, contemporary media. However, older classic titles can appeal to niche, loyal audiences. This analysis supports both licensing decisions and archive curation strategies.\n",
        "\n"
      ],
      "metadata": {
        "id": "zfJ8IqMcYoAp"
      }
    },
    {
      "cell_type": "markdown",
      "source": [
        "#### Chart - 4: Top Directors"
      ],
      "metadata": {
        "id": "4Of9eVA-YrdM"
      }
    },
    {
      "cell_type": "code",
      "source": [
        "# Chart - 4 visualization code\n",
        "# Filter directors with at least 3 titles\n",
        "df_directors = df.dropna(subset=['director', 'imdb_score'])\n",
        "top_directors = df_directors.groupby('director').agg(\n",
        "    title_count=('title', 'count'),\n",
        "    avg_rating=('imdb_score', 'mean')\n",
        ")\n",
        "top_directors = top_directors[top_directors['title_count'] >= 3]\n",
        "top_directors = top_directors.sort_values('avg_rating', ascending=False).head(10)\n",
        "\n",
        "# Plot\n",
        "plt.figure(figsize=(10,6))\n",
        "sns.barplot(x=top_directors['avg_rating'], y=top_directors.index, palette='viridis')\n",
        "plt.title(\"Top 10 Directors by Average IMDb Score (Min 3 Titles)\")\n",
        "plt.xlabel(\"Average IMDb Score\")\n",
        "plt.ylabel(\"Director\")\n",
        "plt.show()\n",
        "\n",
        "# Optional: print top directors\n",
        "print(top_directors)\n"
      ],
      "metadata": {
        "id": "irlUoxc8YrdO"
      },
      "execution_count": null,
      "outputs": []
    },
    {
      "cell_type": "markdown",
      "source": [
        "##### 1. Why did you pick the specific chart?"
      ],
      "metadata": {
        "id": "iky9q4vBYrdO"
      }
    },
    {
      "cell_type": "markdown",
      "source": [
        "To highlight top-performing directors based on audience ratings, while ensuring statistical reliability with a minimum title count."
      ],
      "metadata": {
        "id": "aJRCwT6DYrdO"
      }
    },
    {
      "cell_type": "markdown",
      "source": [
        "##### 2. What is/are the insight(s) found from the chart?"
      ],
      "metadata": {
        "id": "F6T5p64dYrdO"
      }
    },
    {
      "cell_type": "markdown",
      "source": [
        "These directors consistently produce highly-rated content. They may not be the most frequent, but their impact is strong."
      ],
      "metadata": {
        "id": "Xx8WAJvtYrdO"
      }
    },
    {
      "cell_type": "markdown",
      "source": [
        "##### 3. Will the gained insights help creating a positive business impact?\n",
        "Are there any insights that lead to negative growth? Justify with specific reason."
      ],
      "metadata": {
        "id": "y-Ehk30pYrdP"
      }
    },
    {
      "cell_type": "markdown",
      "source": [
        "Perfect for quality partnerships. Amazon can promote these directors or fund their future projects to maintain or raise content standards."
      ],
      "metadata": {
        "id": "jLNxxz7MYrdP"
      }
    },
    {
      "cell_type": "markdown",
      "source": [
        "#### Chart - 5: IMDb Score Distribution"
      ],
      "metadata": {
        "id": "bamQiAODYuh1"
      }
    },
    {
      "cell_type": "code",
      "source": [
        "# Chart - 5 visualization code\n",
        "plt.figure(figsize=(10,5))\n",
        "sns.histplot(df['imdb_score'], bins=20, kde=True, color='green')\n",
        "plt.title(\"IMDb Score Distribution\")\n",
        "plt.xlabel(\"IMDb Score\")\n",
        "plt.ylabel(\"Number of Titles\")\n",
        "plt.show()\n"
      ],
      "metadata": {
        "id": "TIJwrbroYuh3"
      },
      "execution_count": null,
      "outputs": []
    },
    {
      "cell_type": "markdown",
      "source": [
        "##### 1. Why did you pick the specific chart?"
      ],
      "metadata": {
        "id": "QHF8YVU7Yuh3"
      }
    },
    {
      "cell_type": "markdown",
      "source": [
        "IMDb score is a strong proxy for public reception and quality. Analyzing score distribution shows us how much of Amazon’s catalog is well-rated vs poorly rated."
      ],
      "metadata": {
        "id": "dcxuIMRPYuh3"
      }
    },
    {
      "cell_type": "markdown",
      "source": [
        "##### 2. What is/are the insight(s) found from the chart?"
      ],
      "metadata": {
        "id": "GwzvFGzlYuh3"
      }
    },
    {
      "cell_type": "markdown",
      "source": [
        "Most content falls between 5 and 7, suggesting a moderate quality skew. Only a small number of titles score below 4 or above 9."
      ],
      "metadata": {
        "id": "uyqkiB8YYuh3"
      }
    },
    {
      "cell_type": "markdown",
      "source": [
        "##### 3. Will the gained insights help creating a positive business impact?\n",
        "Are there any insights that lead to negative growth? Justify with specific reason."
      ],
      "metadata": {
        "id": "qYpmQ266Yuh3"
      }
    },
    {
      "cell_type": "markdown",
      "source": [
        "Amazon could use this to define quality benchmarks — e.g., avoid acquiring titles scoring under 5 unless niche. It also helps content curators and machine learning teams filter for top picks in recommendation engines. The lack of high-rated titles may signal a need to focus on critical acclaim, not just quantity.\n",
        "\n"
      ],
      "metadata": {
        "id": "_WtzZ_hCYuh4"
      }
    },
    {
      "cell_type": "markdown",
      "source": [
        "#### Chart - 6  Top 10 Most Frequent Actors with their avg rating on Amazon Prime"
      ],
      "metadata": {
        "id": "OH-pJp9IphqM"
      }
    },
    {
      "cell_type": "code",
      "source": [
        "# Chart - 6 visualization code\n",
        "# Explode actor names (already comma-separated from earlier merge)\n",
        "df_actors = df.copy()\n",
        "df_actors = df_actors.dropna(subset=['actors', 'imdb_score'])  # remove rows without actors or score\n",
        "df_actors['actors'] = df_actors['actors'].str.split(', ')\n",
        "df_actors = df_actors.explode('actors')\n",
        "\n",
        "# Group by actor: count + average IMDb score\n",
        "top_actors = df_actors.groupby('actors').agg(\n",
        "    title_count=('title', 'count'),\n",
        "    avg_rating=('imdb_score', 'mean')\n",
        ").sort_values('title_count', ascending=False).head(10)\n",
        "\n",
        "# Plot\n",
        "plt.figure(figsize=(10,6))\n",
        "sns.barplot(x=top_actors['title_count'], y=top_actors.index, palette='mako')\n",
        "plt.title(\"Top 10 Most Frequent Actors on Amazon Prime\")\n",
        "plt.xlabel(\"Number of Titles\")\n",
        "plt.ylabel(\"Actor\")\n",
        "plt.show()\n",
        "\n",
        "# Show avg IMDb score (optional print)\n",
        "print(top_actors)\n",
        "\n"
      ],
      "metadata": {
        "id": "kuRf4wtuphqN"
      },
      "execution_count": null,
      "outputs": []
    },
    {
      "cell_type": "markdown",
      "source": [
        "##### 1. Why did you pick the specific chart?"
      ],
      "metadata": {
        "id": "bbFf2-_FphqN"
      }
    },
    {
      "cell_type": "markdown",
      "source": [
        "To identify actors who appear most frequently in Amazon Prime content and evaluate their average critical reception."
      ],
      "metadata": {
        "id": "loh7H2nzphqN"
      }
    },
    {
      "cell_type": "markdown",
      "source": [
        "##### 2. What is/are the insight(s) found from the chart?"
      ],
      "metadata": {
        "id": "_ouA3fa0phqN"
      }
    },
    {
      "cell_type": "markdown",
      "source": [
        "This shows which actors Amazon collaborates with the most. Some may have a high presence but lower ratings, while others strike a balance between the two."
      ],
      "metadata": {
        "id": "VECbqPI7phqN"
      }
    },
    {
      "cell_type": "markdown",
      "source": [
        "##### 3. Will the gained insights help creating a positive business impact?\n",
        "Are there any insights that lead to negative growth? Justify with specific reason."
      ],
      "metadata": {
        "id": "Seke61FWphqN"
      }
    },
    {
      "cell_type": "markdown",
      "source": [
        "Helps recognize influential actors and potential fan-base anchors. Those with high frequency and high scores could be ideal for future collaborations or exclusives.\n",
        "\n"
      ],
      "metadata": {
        "id": "DW4_bGpfphqN"
      }
    },
    {
      "cell_type": "markdown",
      "source": [
        "#### Chart - 7  Top 10 Countries by Number of Titles"
      ],
      "metadata": {
        "id": "PIIx-8_IphqN"
      }
    },
    {
      "cell_type": "code",
      "source": [
        "# Chart - 7 visualization code\n",
        "# Clean and explode production countries\n",
        "df_country = df.copy()\n",
        "df_country['production_countries'] = df_country['production_countries'].str.replace('[', '').str.replace(']', '')\n",
        "df_country['production_countries'] = df_country['production_countries'].str.split(', ')\n",
        "df_country = df_country.explode('production_countries')\n",
        "\n",
        "top_countries = df_country['production_countries'].value_counts().head(10)\n",
        "\n",
        "plt.figure(figsize=(10,5))\n",
        "sns.barplot(x=top_countries.values, y=top_countries.index, palette='Blues_d')\n",
        "plt.title(\"Top 10 Producing Countries on Amazon Prime\")\n",
        "plt.xlabel(\"Number of Titles\")\n",
        "plt.ylabel(\"Country Code\")\n",
        "plt.show()"
      ],
      "metadata": {
        "id": "lqAIGUfyphqO"
      },
      "execution_count": null,
      "outputs": []
    },
    {
      "cell_type": "markdown",
      "source": [
        "##### 1. Why did you pick the specific chart?"
      ],
      "metadata": {
        "id": "t27r6nlMphqO"
      }
    },
    {
      "cell_type": "markdown",
      "source": [
        "To analyze the geographic diversity of Amazon’s content offerings and identify leading production markets."
      ],
      "metadata": {
        "id": "iv6ro40sphqO"
      }
    },
    {
      "cell_type": "markdown",
      "source": [
        "##### 2. What is/are the insight(s) found from the chart?"
      ],
      "metadata": {
        "id": "r2jJGEOYphqO"
      }
    },
    {
      "cell_type": "markdown",
      "source": [
        "The US dominates content production.\n",
        "\n",
        "A few countries like IN (India) and GB (UK) also contribute significantly."
      ],
      "metadata": {
        "id": "Po6ZPi4hphqO"
      }
    },
    {
      "cell_type": "markdown",
      "source": [
        "##### 3. Will the gained insights help creating a positive business impact?\n",
        "Are there any insights that lead to negative growth? Justify with specific reason."
      ],
      "metadata": {
        "id": "b0JNsNcRphqO"
      }
    },
    {
      "cell_type": "markdown",
      "source": [
        "This helps with localization strategies and market-specific marketing. If Amazon wants to grow in global markets, boosting regional content is key."
      ],
      "metadata": {
        "id": "xvSq8iUTphqO"
      }
    },
    {
      "cell_type": "markdown",
      "source": [
        "#### Chart - 8 IMDb Score by Genre (Top 10 Genres)"
      ],
      "metadata": {
        "id": "BZR9WyysphqO"
      }
    },
    {
      "cell_type": "code",
      "source": [
        "# Reuse exploded + cleaned genre data\n",
        "genre_scores = df_genre_clean.copy()\n",
        "genre_scores = genre_scores.dropna(subset=['imdb_score'])\n",
        "\n",
        "top10 = genre_scores['genres'].value_counts().head(10).index\n",
        "filtered = genre_scores[genre_scores['genres'].isin(top10)]\n",
        "\n",
        "plt.figure(figsize=(12,6))\n",
        "sns.boxplot(data=filtered, x='genres', y='imdb_score', palette='cubehelix')\n",
        "plt.title(\"IMDb Score Distribution by Top 10 Genres\")\n",
        "plt.xlabel(\"Genre\")\n",
        "plt.ylabel(\"IMDb Score\")\n",
        "plt.xticks(rotation=45)\n",
        "plt.show()"
      ],
      "metadata": {
        "id": "TdPTWpAVphqO"
      },
      "execution_count": null,
      "outputs": []
    },
    {
      "cell_type": "markdown",
      "source": [
        "##### 1. Why did you pick the specific chart?"
      ],
      "metadata": {
        "id": "jj7wYXLtphqO"
      }
    },
    {
      "cell_type": "markdown",
      "source": [
        "I selected this chart to move beyond just genre frequency and explore how genres perform in terms of audience ratings. While some genres are popular, they might not always be well-received. This visualization lets us compare the quality distribution across genres and identify which ones consistently perform well, poorly, or show high variability."
      ],
      "metadata": {
        "id": "Ob8u6rCTphqO"
      }
    },
    {
      "cell_type": "markdown",
      "source": [
        "##### 2. What is/are the insight(s) found from the chart?"
      ],
      "metadata": {
        "id": "eZrbJ2SmphqO"
      }
    },
    {
      "cell_type": "markdown",
      "source": [
        "Documentary, History, and Crime genres tend to have higher median IMDb scores, indicating consistent audience appreciation.\n",
        "\n",
        "Drama and Comedy, though frequent, show wider variance — suggesting they include both highly rated and poorly rated content.\n",
        "\n",
        "Genres like Action and Adventure have relatively lower medians and tighter interquartile ranges, indicating a more predictable but mid-tier performance.\n",
        "\n",
        "Outliers exist in nearly every genre, reflecting both critically acclaimed and underperforming titles."
      ],
      "metadata": {
        "id": "mZtgC_hjphqO"
      }
    },
    {
      "cell_type": "markdown",
      "source": [
        "##### 3. Will the gained insights help creating a positive business impact?\n",
        "Are there any insights that lead to negative growth? Justify with specific reason."
      ],
      "metadata": {
        "id": "rFu4xreNphqO"
      }
    },
    {
      "cell_type": "markdown",
      "source": [
        "Double down on critically acclaimed niches like Documentaries and History to strengthen content prestige.\n",
        "\n",
        "For frequent genres like Drama and Comedy, apply stricter quality control or rating thresholds to improve average viewer satisfaction.\n",
        "\n",
        "Use this insight to improve genre-based recommendations — promoting high-scoring sub-genres to drive engagement."
      ],
      "metadata": {
        "id": "ey_0qi68phqO"
      }
    },
    {
      "cell_type": "markdown",
      "source": [
        "#### Chart - 9 Number of Titles by Age Certification"
      ],
      "metadata": {
        "id": "YJ55k-q6phqO"
      }
    },
    {
      "cell_type": "code",
      "source": [
        "# Chart - 9 visualization code\n",
        "plt.figure(figsize=(8,5))\n",
        "sns.countplot(data=df[df['age_certification'] != 'Unknown'], x='age_certification', palette='Set2')\n",
        "plt.title(\"Content Count by Age Certification\")\n",
        "plt.xlabel(\"Age Rating\")\n",
        "plt.ylabel(\"Number of Titles\")\n",
        "plt.show()"
      ],
      "metadata": {
        "id": "B2aS4O1ophqO"
      },
      "execution_count": null,
      "outputs": []
    },
    {
      "cell_type": "markdown",
      "source": [
        "##### 1. Why did you pick the specific chart?"
      ],
      "metadata": {
        "id": "gCFgpxoyphqP"
      }
    },
    {
      "cell_type": "markdown",
      "source": [
        "This chart helps answer a key business question: “Is Amazon Prime targeting content appropriately across different age demographics?” By examining age certifications, we can determine whether Amazon leans more toward family-friendly content, mature themes, or has a balanced offering."
      ],
      "metadata": {
        "id": "TVxDimi2phqP"
      }
    },
    {
      "cell_type": "markdown",
      "source": [
        "##### 2. What is/are the insight(s) found from the chart?"
      ],
      "metadata": {
        "id": "OVtJsKN_phqQ"
      }
    },
    {
      "cell_type": "markdown",
      "source": [
        "The majority of content falls under mature categories, such as TV-MA and R, indicating a strong focus on adult audiences.\n",
        "\n",
        "There is a moderate presence of PG-13 and TV-14 content, appealing to teens and general audiences.\n",
        "\n",
        "Family-friendly titles (G, PG, TV-G) are relatively limited — possibly underrepresented on the platform.\n",
        "\n"
      ],
      "metadata": {
        "id": "ngGi97qjphqQ"
      }
    },
    {
      "cell_type": "markdown",
      "source": [
        "##### 3. Will the gained insights help creating a positive business impact?\n",
        "Are there any insights that lead to negative growth? Justify with specific reason."
      ],
      "metadata": {
        "id": "lssrdh5qphqQ"
      }
    },
    {
      "cell_type": "markdown",
      "source": [
        "If Amazon wants to expand into family or children’s markets, it may need to invest more in G or PG content.\n",
        "\n",
        "The current skew toward mature ratings supports a premium adult-oriented brand, but may limit accessibility in households with young children.\n",
        "\n",
        "Marketing strategies can be tailored accordingly — highlight mature drama/thriller content for adult users, or fill genre gaps in family/kids categories."
      ],
      "metadata": {
        "id": "tBpY5ekJphqQ"
      }
    },
    {
      "cell_type": "markdown",
      "source": [
        "#### Chart - 10 Average TMDb Popularity by Content Type"
      ],
      "metadata": {
        "id": "U2RJ9gkRphqQ"
      }
    },
    {
      "cell_type": "code",
      "source": [
        "# Chart - 10 visualization code\n",
        "popularity = df.groupby('type')['tmdb_popularity'].mean()\n",
        "\n",
        "plt.figure(figsize=(6,4))\n",
        "sns.barplot(x=popularity.index, y=popularity.values, palette='pastel')\n",
        "plt.title(\"Average TMDb Popularity by Content Type\")\n",
        "plt.xlabel(\"Content Type\")\n",
        "plt.ylabel(\"Avg TMDb Popularity\")\n",
        "plt.show()"
      ],
      "metadata": {
        "id": "GM7a4YP4phqQ"
      },
      "execution_count": null,
      "outputs": []
    },
    {
      "cell_type": "markdown",
      "source": [
        "##### 1. Why did you pick the specific chart?"
      ],
      "metadata": {
        "id": "1M8mcRywphqQ"
      }
    },
    {
      "cell_type": "markdown",
      "source": [
        "This chart was chosen to explore how content format (Movie vs TV Show) influences audience engagement or buzz, as measured by TMDb popularity. It helps answer the strategic question:\n",
        "\n",
        "“\"Which type of content drives more attention on Amazon Prime?”\"\n",
        "\n",
        "Understanding this relationship can guide decisions on content development, promotion, and platform focus."
      ],
      "metadata": {
        "id": "8agQvks0phqQ"
      }
    },
    {
      "cell_type": "markdown",
      "source": [
        "##### 2. What is/are the insight(s) found from the chart?"
      ],
      "metadata": {
        "id": "tgIPom80phqQ"
      }
    },
    {
      "cell_type": "markdown",
      "source": [
        "TV Shows have a higher average TMDb popularity score than Movies.\n",
        "\n",
        "This suggests that, while movies dominate the catalog in quantity, TV shows may be more successful in capturing user interest.\n",
        "\n",
        "It could be due to longer viewer retention, ongoing discussion, or fan engagement with serialized content."
      ],
      "metadata": {
        "id": "Qp13pnNzphqQ"
      }
    },
    {
      "cell_type": "markdown",
      "source": [
        "##### 3. Will the gained insights help creating a positive business impact?\n",
        "Are there any insights that lead to negative growth? Justify with specific reason."
      ],
      "metadata": {
        "id": "JMzcOPDDphqR"
      }
    },
    {
      "cell_type": "markdown",
      "source": [
        "This finding implies that Amazon Prime should consider:\n",
        "\n",
        "Investing more in TV series, particularly original shows, to boost ongoing platform engagement.\n",
        "\n",
        "Highlighting popular shows more aggressively in marketing and homepage recommendations.\n",
        "\n",
        "Using TMDb popularity as a proxy for early success prediction — especially for newer or lesser-known titles.\n",
        "\n",
        "Since popularity often correlates with user retention and subscription value, focusing on high-performing content types like TV shows can directly support growth and loyalty objectives.\n"
      ],
      "metadata": {
        "id": "R4Ka1PC2phqR"
      }
    },
    {
      "cell_type": "markdown",
      "source": [
        "#### Chart - 11 - Correlation Heatmap"
      ],
      "metadata": {
        "id": "NC_X3p0fY2L0"
      }
    },
    {
      "cell_type": "code",
      "source": [
        "# Correlation Heatmap visualization code\n",
        "# Select relevant numerical columns\n",
        "numeric_cols = ['imdb_score', 'imdb_votes', 'tmdb_score', 'tmdb_popularity', 'runtime', 'release_year']\n",
        "\n",
        "# Drop rows with missing values for clean correlation\n",
        "df_corr = df[numeric_cols].dropna()\n",
        "\n",
        "# Compute correlation matrix\n",
        "corr_matrix = df_corr.corr()\n",
        "\n",
        "# Plot the heatmap\n",
        "plt.figure(figsize=(10, 6))\n",
        "sns.heatmap(corr_matrix, annot=True, fmt=\".2f\", cmap=\"coolwarm\", linewidths=0.5, linecolor='gray')\n",
        "plt.title(\"Correlation Heatmap of Numeric Features\", fontsize=14)\n",
        "plt.xticks(rotation=45)\n",
        "plt.yticks(rotation=0)\n",
        "plt.tight_layout()\n",
        "plt.show()\n"
      ],
      "metadata": {
        "id": "xyC9zolEZNRQ"
      },
      "execution_count": null,
      "outputs": []
    },
    {
      "cell_type": "markdown",
      "source": [
        "##### 1. Why did you pick the specific chart?"
      ],
      "metadata": {
        "id": "UV0SzAkaZNRQ"
      }
    },
    {
      "cell_type": "markdown",
      "source": [
        "The correlation heatmap provides a quick overview of linear relationships between numerical variables like IMDb and TMDb scores, popularity, votes, runtime, and release year.\n",
        "\n",
        "It is especially useful during exploratory data analysis to:\n",
        "\n",
        "* Detect multicollinearity\n",
        "\n",
        "* Reveal redundant features\n",
        "\n",
        "* Understand how different content attributes relate to performance\n",
        "\n",
        "This chart helps decide what features might be worth focusing on in recommendations, marketing, or predictive modeling."
      ],
      "metadata": {
        "id": "DVPuT8LYZNRQ"
      }
    },
    {
      "cell_type": "markdown",
      "source": [
        "##### 2. What is/are the insight(s) found from the chart?"
      ],
      "metadata": {
        "id": "YPEH6qLeZNRQ"
      }
    },
    {
      "cell_type": "markdown",
      "source": [
        "* imdb_score and tmdb_score show a strong positive correlation (~0.65–0.75), confirming consistency between different rating platforms.\n",
        "\n",
        "* imdb_votes and tmdb_popularity also have a moderate positive correlation, suggesting that popular content tends to attract more user reviews.\n",
        "\n",
        "* imdb_score and imdb_votes are positively correlated — indicating that better-rated content often garners more user engagement.\n",
        "\n",
        "* runtime has almost no correlation with other features — meaning longer content doesn't necessarily get higher ratings or more attention.\n",
        "\n",
        "* release_year shows a weak negative correlation with tmdb_score and imdb_votes, possibly because older content has had more time to gather votes or newer content is being rated more harshly.\n",
        "\n",
        "\n"
      ],
      "metadata": {
        "id": "bfSqtnDqZNRR"
      }
    },
    {
      "cell_type": "markdown",
      "source": [
        "##### 3. Business Impact:"
      ],
      "metadata": {
        "id": "Wl4mPAAh-Poo"
      }
    },
    {
      "cell_type": "markdown",
      "source": [
        "* Helps Amazon focus on key predictors of content success: score, votes, and popularity.\n",
        "\n",
        "* Guides feature selection for building recommendation systems or content success prediction models — for example, runtime and release_year may have low predictive value.\n",
        "\n",
        "* Confirms that cross-platform ratings (IMDb vs TMDb) are aligned, which strengthens confidence in using either metric.\n",
        "\n",
        "* Suggests that increasing visibility of already well-rated titles could increase engagement, since popularity correlates with high votes and scores."
      ],
      "metadata": {
        "id": "TYq1jkybAWC9"
      }
    },
    {
      "cell_type": "markdown",
      "source": [
        "#### Chart - 12 - Pair Plot"
      ],
      "metadata": {
        "id": "q29F0dvdveiT"
      }
    },
    {
      "cell_type": "code",
      "source": [
        "# Selecting relevant numeric features\n",
        "numeric_features = ['imdb_score', 'imdb_votes', 'tmdb_score', 'tmdb_popularity', 'runtime']\n",
        "\n",
        "# Optional: remove extreme outliers to improve clarity\n",
        "df_pair = df[numeric_features].copy()\n",
        "df_pair = df_pair[df_pair['imdb_votes'] < df_pair['imdb_votes'].quantile(0.99)]  # remove top 1% of vote outliers\n",
        "df_pair = df_pair[df_pair['tmdb_popularity'] < df_pair['tmdb_popularity'].quantile(0.99)]\n",
        "\n",
        "# Plot\n",
        "sns.pairplot(df_pair, diag_kind='kde', corner=True, plot_kws={'alpha': 0.5})\n",
        "plt.suptitle(\"Pair Plot of Numeric Features (IMDb, TMDb, Runtime)\", y=1.02)\n",
        "plt.show()\n"
      ],
      "metadata": {
        "id": "o58-TEIhveiU"
      },
      "execution_count": null,
      "outputs": []
    },
    {
      "cell_type": "markdown",
      "source": [
        "##### 1. Why did you pick the specific chart?"
      ],
      "metadata": {
        "id": "EXh0U9oCveiU"
      }
    },
    {
      "cell_type": "markdown",
      "source": [
        "The pair plot is a powerful multivariate visualization that allows us to:\n",
        "\n",
        "Observe relationships between numeric features like scores, popularity, votes, and runtime.\n",
        "\n",
        "Detect correlations, clusters, or nonlinear trends that might not be visible in a single chart.\n",
        "\n",
        "Identify outliers and data distributions in one place.\n",
        "\n",
        "It’s especially useful in exploratory data analysis (EDA) to generate hypotheses for further investigation."
      ],
      "metadata": {
        "id": "eMmPjTByveiU"
      }
    },
    {
      "cell_type": "markdown",
      "source": [
        "##### 2. What is/are the insight(s) found from the chart?"
      ],
      "metadata": {
        "id": "22aHeOlLveiV"
      }
    },
    {
      "cell_type": "markdown",
      "source": [
        "From the pair plot:\n",
        "\n",
        "* A strong positive relationship exists between imdb_score and tmdb_score, which confirms consistency between the two platforms’ ratings.\n",
        "\n",
        "* imdb_votes is moderately positively correlated with both imdb_score and tmdb_popularity, indicating that higher-rated content tends to get more attention.\n",
        "\n",
        "* runtime shows little correlation with either scores or popularity — suggesting content length doesn't significantly impact how well a title is rated or how popular it is.\n",
        "\n",
        "* Some clusters are visible in tmdb_popularity and imdb_votes, likely reflecting a small number of blockbuster titles getting disproportionately high views and ratings."
      ],
      "metadata": {
        "id": "uPQ8RGwHveiV"
      }
    },
    {
      "cell_type": "markdown",
      "source": [
        "##### 3. Business Impact"
      ],
      "metadata": {
        "id": "nuyj6gmh_S5_"
      }
    },
    {
      "cell_type": "markdown",
      "source": [
        "These relationships help Amazon Prime identify which features are most predictive of user engagement and content success.\n",
        "\n",
        "A high imdb_score or tmdb_score along with high tmdb_popularity may define a “quality hit”, ideal for spotlighting or franchise investment.\n",
        "\n",
        "Weak correlation between runtime and success implies creative freedom in content length without risking user reception — useful for production strategy.\n",
        "\n",
        "The plot can also inform machine learning features for models predicting content performance or viewer preferences."
      ],
      "metadata": {
        "id": "-bwm2FwQ_f53"
      }
    },
    {
      "cell_type": "markdown",
      "source": [
        "## **5. Solution to Business Objective**"
      ],
      "metadata": {
        "id": "JcMwzZxoAimU"
      }
    },
    {
      "cell_type": "markdown",
      "source": [
        "#### What do you suggest the client to achieve Business Objective ?"
      ],
      "metadata": {
        "id": "8G2x9gOozGDZ"
      }
    },
    {
      "cell_type": "markdown",
      "source": [
        "The goal of this project was to help Amazon Prime understand patterns in its existing catalog to support content planning, recommendation strategies, and market targeting. Based on insights from our visual analysis, we can address the business objectives as follows:\n",
        "\n",
        "1. **Catalog Composition**  \n",
        "* Chart 1 (Type Distribution) shows that Amazon Prime primarily features movies, with significantly fewer TV shows.  \n",
        "* This indicates that Amazon could consider investing in more serialized content to compete with platforms that focus on binge-worthy series.\n",
        "\n",
        "2. **Genre Trends**  \n",
        "* Chart 2 (Top 10 Genres) confirms that Drama, Comedy, and Action are the most popular genres.  \n",
        "* Chart 15 (IMDb Score by Genre) reveals that while Drama is plentiful, genres like Documentary, History, and Crime have higher average IMDb scores. This suggests they may perform better critically, despite being less common.  \n",
        "* Recommendation: Focus on underrepresented but high-performing genres to improve the perception of content quality.\n",
        "\n",
        "3. **Content Freshness**  \n",
        "* Chart 3 (Release Year Trend) shows that Amazon is adding new titles each year, especially since 2010. However, there has been a slight drop in recent years, possibly due to licensing delays or the impact of the pandemic.  \n",
        "* Continued investment in new, original titles can help keep the platform competitive.\n",
        "\n",
        "4. **Contributor Impact**  \n",
        "* Chart 14 (Top Directors by IMDb Score) shows that a few directors consistently produce highly-rated content. These individuals could be valuable partners for future projects.  \n",
        "* Chart 13 (Top Actors by Frequency and Score) highlights actors who appear often, which is useful for promotions centered around their star power.  \n",
        "* Combining this data with score insights helps target creators who engage audiences.\n",
        "\n",
        "5. **Production Diversity**  \n",
        "* Chart 9 (Top Countries) confirms that Amazon’s content is mainly US-centric, with secondary contributions from India and the UK.  \n",
        "To expand in emerging markets, Amazon should consider investing more in local and regional productions and promoting non-English titles.\n",
        "\n",
        "6. **Content Quality & Engagement Drivers**  \n",
        "* Chart 5 (Distribution of IMDb Scores) and Chart 17 (TMDb Popularity by Type) show that most content has mid-range scores, with TV shows demonstrating slightly more popularity per title.  \n",
        "* Chart 16 (Titles by Age Certification) reveals that Amazon mostly targets a mature audience (TV-MA, R), while family-oriented content is limited.  \n",
        "* Charts 6 & 7 (Correlation + Pair Plot) confirm that popularity and votes correlate with scores, but runtime has little effect, suggesting that shorter content isn't penalized.\n",
        "\n",
        "**Summary:**  \n",
        "* Increase investment in high-scoring, niche genres like History and Crime.  \n",
        "* Expand TV show offerings, especially for global and younger audiences.  \n",
        "* Use creator performance data to inform casting, directing, and promotion decisions.  \n",
        "* Improve regional diversity in content to enhance international growth.  \n",
        "* Leverage ratings, votes, and popularity correlations to refine recommendation systems."
      ],
      "metadata": {
        "id": "pASKb0qOza21"
      }
    },
    {
      "cell_type": "markdown",
      "source": [
        "# **Conclusion**"
      ],
      "metadata": {
        "id": "gCX9965dhzqZ"
      }
    },
    {
      "cell_type": "markdown",
      "source": [
        "Through a mix of univariate, bivariate, and multivariate visual analysis, we’ve found valuable insights from Amazon Prime’s content catalog. The platform excels in drama and action films but may be missing high-quality niche genres and younger audiences.\n",
        "\n",
        "Strong connections between IMDb and TMDb ratings and popularity metrics suggest Amazon can confidently use this data to improve content recommendations and promotions. Contributor analytics also highlight strategic opportunities for partnerships with successful actors and directors.\n",
        "\n",
        "In conclusion, the data supports practical steps for Amazon Prime to:\n",
        "\n",
        "- Refine its content mix based on genre performance,\n",
        "- Diversify production across countries and certifications,\n",
        "- Optimize recommendations and acquisition strategies using score-popularity patterns.\n",
        "\n",
        "These insights fit well with the platform’s goals of increasing engagement, improving viewer satisfaction, and expanding market share through thoughtful, data-driven content strategy.\n",
        "\n",
        "Use ratings, votes, and popularity correlations to refine recommendation engines."
      ],
      "metadata": {
        "id": "Fjb1IsQkh3yE"
      }
    }
  ]
}